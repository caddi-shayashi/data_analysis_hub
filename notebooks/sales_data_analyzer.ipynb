{
  "cells": [
    {
      "cell_type": "markdown",
      "metadata": {
        "id": "view-in-github",
        "colab_type": "text"
      },
      "source": [
        "<a href=\"https://colab.research.google.com/github/caddi-shayashi/data_analysis_hub/blob/master/notebooks/sales_data_analyzer.ipynb\" target=\"_parent\"><img src=\"https://colab.research.google.com/assets/colab-badge.svg\" alt=\"Open In Colab\"/></a>"
      ]
    },
    {
      "cell_type": "markdown",
      "metadata": {
        "id": "EOP2gGUtFdX3"
      },
      "source": [
        "# 📊 CADDi 営業データ分析ツール（セールスチーム専用）\n",
        "\n",
        "## 🎯 このツールについて\n",
        "\n",
        "**日本語で質問するだけ**で、自動的にデータ分析ができる営業チーム専用ツールです。\n",
        "プログラミング知識は一切不要です！\n",
        "\n",
        "### ✅ できること\n",
        "- 💬 日本語で質問 → AIが自動でデータを取得・分析\n",
        "- 📈 結果を自動でグラフ化\n",
        "- 📝 分析結果をわかりやすく要約\n",
        "- 💾 分析履歴を保存\n",
        "\n",
        "### 📌 使い方\n",
        "1. **ステップ1～4のセル**を順番に実行（▶ボタンをクリック）\n",
        "2. **質問を入力**して分析実行\n",
        "3. 結果を確認！"
      ]
    },
    {
      "cell_type": "markdown",
      "metadata": {
        "id": "fDuSWJCvFdX3"
      },
      "source": [
        "---\n",
        "## 📋 ステップ1: 初期設定\n",
        "\n",
        "**👉 下のセルの ▶ ボタンをクリックしてください**"
      ]
    },
    {
      "cell_type": "code",
      "execution_count": 1,
      "metadata": {
        "id": "mXL6EsVCFdX4",
        "outputId": "5d463621-70e0-45c6-da26-0769e12fc3c9",
        "colab": {
          "base_uri": "https://localhost:8080/"
        }
      },
      "outputs": [
        {
          "output_type": "stream",
          "name": "stdout",
          "text": [
            "⏳ 必要なツールをインストールしています...\n",
            "（初回は2-3分かかります）\n",
            "\n",
            "✅ インストール完了！\n",
            "\n",
            "📌 次のステップに進んでください\n"
          ]
        }
      ],
      "source": [
        "# 必要なツールをインストール（初回のみ実行されます）\n",
        "import subprocess\n",
        "import sys\n",
        "\n",
        "print(\"⏳ 必要なツールをインストールしています...\")\n",
        "print(\"（初回は2-3分かかります）\\n\")\n",
        "\n",
        "packages = [\n",
        "    'google-cloud-bigquery',\n",
        "    'google-cloud-bigquery-storage',\n",
        "    'google-generativeai',\n",
        "    'pandas',\n",
        "    'plotly',\n",
        "    'db-dtypes'\n",
        "]\n",
        "\n",
        "for package in packages:\n",
        "    subprocess.check_call([sys.executable, \"-m\", \"pip\", \"install\", \"-q\", package])\n",
        "\n",
        "print(\"✅ インストール完了！\")\n",
        "print(\"\\n📌 次のステップに進んでください\")"
      ]
    },
    {
      "cell_type": "markdown",
      "metadata": {
        "id": "d2UjtGjBFdX4"
      },
      "source": [
        "---\n",
        "## 📋 ステップ2: Google Cloud接続\n",
        "\n",
        "**👉 下のセルの ▶ ボタンをクリックしてください**"
      ]
    },
    {
      "cell_type": "code",
      "execution_count": 2,
      "metadata": {
        "id": "znGr7h2XFdX4",
        "outputId": "24c5d11d-acbf-4d62-a5eb-b9a8e4afb88c",
        "colab": {
          "base_uri": "https://localhost:8080/"
        }
      },
      "outputs": [
        {
          "output_type": "stream",
          "name": "stdout",
          "text": [
            "⏳ Google Cloudに接続しています...\n",
            "\n",
            "✅ Google Cloud接続完了！\n",
            "\n",
            "📌 次のステップに進んでください\n"
          ]
        }
      ],
      "source": [
        "# Google Cloudに接続\n",
        "print(\"⏳ Google Cloudに接続しています...\\n\")\n",
        "\n",
        "try:\n",
        "    from google.colab import auth\n",
        "    auth.authenticate_user()\n",
        "    print(\"✅ Google Cloud接続完了！\")\n",
        "    print(\"\\n📌 次のステップに進んでください\")\n",
        "except:\n",
        "    print(\"ℹ️ ローカル環境で実行中です\")\n",
        "    print(\"\\n📌 次のステップに進んでください\")"
      ]
    },
    {
      "cell_type": "markdown",
      "metadata": {
        "id": "qaBqDEeGFdX4"
      },
      "source": [
        "---\n",
        "## 📋 ステップ3: AI設定（Gemini API）\n",
        "\n",
        "### 🔑 APIキーの設定方法\n",
        "\n",
        "1. Colabの左側メニューから **🔑（鍵アイコン）** をクリック\n",
        "2. **「シークレットを追加」** をクリック\n",
        "3. 名前: `GEMINI_API_KEY`\n",
        "4. 値: 提供されたAPIキーを貼り付け\n",
        "5. 下のセルを実行\n",
        "\n",
        "**👉 設定が完了したら、下のセルの ▶ ボタンをクリック**"
      ]
    },
    {
      "cell_type": "code",
      "execution_count": 3,
      "metadata": {
        "id": "i6kS-Z4fFdX4",
        "outputId": "570d7bf2-2955-494d-9504-ec6d9ea4ed11",
        "colab": {
          "base_uri": "https://localhost:8080/"
        }
      },
      "outputs": [
        {
          "output_type": "stream",
          "name": "stdout",
          "text": [
            "⏳ AI設定中...\n",
            "\n",
            "✅ AI設定完了！\n",
            "\n",
            "📌 次のステップに進んでください\n"
          ]
        }
      ],
      "source": [
        "# AI（Gemini）の設定\n",
        "import google.generativeai as genai\n",
        "\n",
        "print(\"⏳ AI設定中...\\n\")\n",
        "\n",
        "try:\n",
        "    from google.colab import userdata\n",
        "    api_key = userdata.get('GEMINI_API_KEY')\n",
        "    genai.configure(api_key=api_key)\n",
        "    print(\"✅ AI設定完了！\")\n",
        "    print(\"\\n📌 次のステップに進んでください\")\n",
        "except Exception as e:\n",
        "    print(\"❌ APIキーが見つかりません\")\n",
        "    print(\"\\n📝 設定方法:\")\n",
        "    print(\"1. 左側メニューの 🔑（鍵アイコン）をクリック\")\n",
        "    print(\"2. 'シークレットを追加'をクリック\")\n",
        "    print(\"3. 名前: GEMINI_API_KEY\")\n",
        "    print(\"4. 値: 提供されたAPIキーを貼り付け\")\n",
        "    print(\"5. このセルを再実行\")"
      ]
    },
    {
      "cell_type": "markdown",
      "metadata": {
        "id": "aARoISNnFdX4"
      },
      "source": [
        "---\n",
        "## 📋 ステップ4: 分析システムの起動\n",
        "\n",
        "**👉 下のセルの ▶ ボタンをクリックしてください**"
      ]
    },
    {
      "cell_type": "code",
      "execution_count": 4,
      "metadata": {
        "id": "YzEGeiKkFdX4",
        "outputId": "845ba7a6-e33d-4b7a-8ea7-c246e37aad81",
        "colab": {
          "base_uri": "https://localhost:8080/"
        }
      },
      "outputs": [
        {
          "output_type": "stream",
          "name": "stdout",
          "text": [
            "⏳ 分析システムを起動しています...\n",
            "\n",
            "✅ 分析システム起動完了！\n",
            "\n",
            "🚀 準備完了！下の分析セクションで質問を入力してください\n"
          ]
        }
      ],
      "source": [
        "# 分析システムを起動\n",
        "print(\"⏳ 分析システムを起動しています...\\n\")\n",
        "\n",
        "import os\n",
        "import pandas as pd\n",
        "import numpy as np\n",
        "from datetime import datetime\n",
        "from google.cloud import bigquery\n",
        "import plotly.express as px\n",
        "import plotly.graph_objects as go\n",
        "import warnings\n",
        "warnings.filterwarnings('ignore')\n",
        "\n",
        "# プロジェクト設定\n",
        "PROJECT_ID = 'esperanto-drawer-prod'\n",
        "client = bigquery.Client(project=PROJECT_ID)\n",
        "\n",
        "# AIモデル設定\n",
        "model = genai.GenerativeModel('gemini-2.5-flash')\n",
        "\n",
        "# 分析履歴を保存\n",
        "analysis_history = []\n",
        "\n",
        "print(\"✅ 分析システム起動完了！\")\n",
        "print(\"\\n🚀 準備完了！下の分析セクションで質問を入力してください\")"
      ]
    },
    {
      "cell_type": "markdown",
      "metadata": {
        "id": "AoUpdEfDFdX5"
      },
      "source": [
        "---\n",
        "# 🔍 データ分析を実行\n",
        "\n",
        "## 💡 質問の例\n",
        "\n",
        "### 売上分析\n",
        "- 「今月の売上トップ10社を教えて」\n",
        "- 「前年同期比での成長率は？」\n",
        "- 「製品別の売上推移を見せて」\n",
        "\n",
        "### 顧客分析\n",
        "- 「新規顧客の獲得状況は？」\n",
        "- 「大口顧客の契約状況を教えて」\n",
        "- 「地域別の顧客分布は？」\n",
        "\n",
        "### 商談分析\n",
        "- 「今四半期の商談状況は？」\n",
        "- 「成約率が高い営業担当者は誰？」\n",
        "- 「リードタイムが長い案件を見せて」\n",
        "\n",
        "---\n",
        "\n",
        "## 📝 あなたの質問を入力\n",
        "\n",
        "**👉 下のセルを実行して、質問を入力してください**"
      ]
    },
    {
      "cell_type": "code",
      "execution_count": null,
      "metadata": {
        "id": "S7p6Eb6MFdX5"
      },
      "outputs": [],
      "source": [
        "# ===== 質問を入力 =====\n",
        "question = \"今月の売上トップ10社を教えて\"  # ← ここを自由に変更してください！\n",
        "\n",
        "# 分析を実行\n",
        "print(f\"🔍 質問: {question}\")\n",
        "print(\"=\" * 60)\n",
        "print(\"\\n⏳ 分析中...\\n\")\n",
        "\n",
        "def analyze_sales_data(question):\n",
        "    \"\"\"営業データを分析する関数\"\"\"\n",
        "\n",
        "    # SQLを生成\n",
        "    prompt = f\"\"\"\n",
        "    以下の質問に答えるBigQuery SQLを生成してください：\n",
        "\n",
        "    質問: {question}\n",
        "\n",
        "    利用可能なテーブル:\n",
        "    - esperanto-drawer-prod.dm_business_planning.salesforce_account_mart (顧客データ)\n",
        "    - esperanto-drawer-prod.dm_business_planning.salesforce_opportunity_mart (商談データ)\n",
        "\n",
        "    注意:\n",
        "    - 必ずLIMIT 100を付ける\n",
        "    - シンプルで実行可能なSQLのみ返す\n",
        "    - SQLは```sql と ```で囲む\n",
        "    \"\"\"\n",
        "\n",
        "    try:\n",
        "        # SQL生成\n",
        "        response = model.generate_content(prompt)\n",
        "        sql = response.text\n",
        "\n",
        "        # SQL抽出\n",
        "        if '```sql' in sql:\n",
        "            sql = sql.split('```sql')[1].split('```')[0].strip()\n",
        "        elif '```' in sql:\n",
        "            sql = sql.split('```')[1].split('```')[0].strip()\n",
        "\n",
        "        print(\"📝 生成されたSQL:\")\n",
        "        print(sql)\n",
        "        print(\"\\n\" + \"=\" * 60 + \"\\n\")\n",
        "\n",
        "        # SQL実行\n",
        "        print(\"⏳ データ取得中...\\n\")\n",
        "        df = client.query(sql).to_dataframe()\n",
        "\n",
        "        # 結果表示\n",
        "        print(f\"✅ {len(df)}件のデータを取得しました\\n\")\n",
        "        print(\"📊 データ（上位10件）:\")\n",
        "        display(df.head(10))\n",
        "\n",
        "        # グラフ作成\n",
        "        if len(df) > 0:\n",
        "            numeric_cols = df.select_dtypes(include=[np.number]).columns\n",
        "            non_numeric_cols = df.select_dtypes(exclude=[np.number]).columns\n",
        "\n",
        "            if len(numeric_cols) > 0 and len(non_numeric_cols) > 0:\n",
        "                fig = px.bar(\n",
        "                    df.head(20),\n",
        "                    x=non_numeric_cols[0],\n",
        "                    y=numeric_cols[0],\n",
        "                    title=f\"分析結果: {question}\",\n",
        "                    template=\"plotly_white\"\n",
        "                )\n",
        "                fig.update_layout(\n",
        "                    xaxis_tickangle=-45,\n",
        "                    height=500,\n",
        "                    font=dict(size=12)\n",
        "                )\n",
        "                fig.show()\n",
        "\n",
        "        # 要約生成\n",
        "        print(\"\\n\" + \"=\" * 60)\n",
        "        print(\"\\n📝 分析結果の要約:\")\n",
        "\n",
        "        summary_prompt = f\"\"\"\n",
        "        以下のデータ分析結果を営業チーム向けに3行で要約してください：\n",
        "\n",
        "        質問: {question}\n",
        "        データ件数: {len(df)}件\n",
        "\n",
        "        主な発見を簡潔に説明してください。\n",
        "        \"\"\"\n",
        "\n",
        "        summary = model.generate_content(summary_prompt)\n",
        "        print(summary.text)\n",
        "\n",
        "        # 履歴に追加\n",
        "        analysis_history.append({\n",
        "            'timestamp': datetime.now(),\n",
        "            'question': question,\n",
        "            'rows': len(df)\n",
        "        })\n",
        "\n",
        "        return df\n",
        "\n",
        "    except Exception as e:\n",
        "        print(f\"❌ エラーが発生しました: {e}\")\n",
        "        print(\"\\n💡 ヒント:\")\n",
        "        print(\"- より具体的な質問にしてみてください\")\n",
        "        print(\"- 期間を指定してみてください（例：'2024年の'）\")\n",
        "        print(\"- 別の表現で質問してみてください\")\n",
        "        return None\n",
        "\n",
        "# 分析実行\n",
        "result_df = analyze_sales_data(question)"
      ]
    },
    {
      "cell_type": "markdown",
      "metadata": {
        "id": "eLFk8uAJFdX5"
      },
      "source": [
        "---\n",
        "# 📚 よく使う分析テンプレート\n",
        "\n",
        "以下のセルには、よく使う分析の質問がプリセットされています。\n",
        "実行するだけで結果が得られます！\n",
        "\n",
        "## 1️⃣ 月次売上分析"
      ]
    },
    {
      "cell_type": "code",
      "execution_count": null,
      "metadata": {
        "id": "pbkUVFeEFdX5"
      },
      "outputs": [],
      "source": [
        "# 月次売上分析\n",
        "analyze_sales_data(\"2024年の月別売上推移を教えて\")"
      ]
    },
    {
      "cell_type": "markdown",
      "metadata": {
        "id": "8vlhZfi1FdX5"
      },
      "source": [
        "## 2️⃣ 顧客ランキング"
      ]
    },
    {
      "cell_type": "code",
      "execution_count": null,
      "metadata": {
        "id": "Cs4ZGt12FdX5"
      },
      "outputs": [],
      "source": [
        "# 顧客ランキング\n",
        "analyze_sales_data(\"売上が大きい顧客トップ20を教えて\")"
      ]
    },
    {
      "cell_type": "markdown",
      "metadata": {
        "id": "F09ALYh7FdX5"
      },
      "source": [
        "## 3️⃣ 商談ステータス"
      ]
    },
    {
      "cell_type": "code",
      "execution_count": null,
      "metadata": {
        "id": "m1FAw0rfFdX5"
      },
      "outputs": [],
      "source": [
        "# 商談ステータス\n",
        "analyze_sales_data(\"現在進行中の商談をステージ別に集計して\")"
      ]
    },
    {
      "cell_type": "markdown",
      "metadata": {
        "id": "2pwpGDkOFdX5"
      },
      "source": [
        "## 4️⃣ 新規顧客分析"
      ]
    },
    {
      "cell_type": "code",
      "execution_count": null,
      "metadata": {
        "id": "-UWhNZwuFdX5"
      },
      "outputs": [],
      "source": [
        "# 新規顧客分析\n",
        "analyze_sales_data(\"今年獲得した新規顧客の数と売上を月別に教えて\")"
      ]
    },
    {
      "cell_type": "markdown",
      "metadata": {
        "id": "ITab8OQ5FdX5"
      },
      "source": [
        "## 5️⃣ 成約率分析"
      ]
    },
    {
      "cell_type": "code",
      "execution_count": null,
      "metadata": {
        "id": "_S66U9a-FdX5"
      },
      "outputs": [],
      "source": [
        "# 成約率分析\n",
        "analyze_sales_data(\"商談の成約率を営業担当者別に教えて\")"
      ]
    },
    {
      "cell_type": "markdown",
      "metadata": {
        "id": "3xBFjIRbFdX5"
      },
      "source": [
        "---\n",
        "# 📊 分析履歴の確認\n",
        "\n",
        "これまでに実行した分析の履歴を確認できます。"
      ]
    },
    {
      "cell_type": "code",
      "execution_count": null,
      "metadata": {
        "id": "PjVGqDgDFdX5"
      },
      "outputs": [],
      "source": [
        "# 分析履歴を表示\n",
        "if analysis_history:\n",
        "    print(\"📚 分析履歴\")\n",
        "    print(\"=\" * 60)\n",
        "\n",
        "    history_df = pd.DataFrame(analysis_history)\n",
        "    history_df['時刻'] = history_df['timestamp'].dt.strftime('%H:%M:%S')\n",
        "    history_df = history_df[['時刻', 'question', 'rows']]\n",
        "    history_df.columns = ['時刻', '質問', 'データ件数']\n",
        "\n",
        "    display(history_df)\n",
        "else:\n",
        "    print(\"📭 まだ分析を実行していません\")"
      ]
    },
    {
      "cell_type": "markdown",
      "metadata": {
        "id": "zJcyeYSrFdX5"
      },
      "source": [
        "---\n",
        "# 💡 ヒントとトラブルシューティング\n",
        "\n",
        "## ✅ 効果的な質問のコツ\n",
        "\n",
        "### 良い質問の例\n",
        "- ✅ 「2024年1月の売上トップ10社」（期間が明確）\n",
        "- ✅ 「ENTセグメントの顧客数」（条件が明確）\n",
        "- ✅ 「商談金額が1000万円以上の案件」（数値条件が明確）\n",
        "\n",
        "### 改善が必要な質問の例\n",
        "- ❌ 「売上は？」（曖昧すぎる）\n",
        "- ❌ 「良い顧客」（「良い」の定義が不明）\n",
        "\n",
        "## 🔧 エラーが出た場合\n",
        "\n",
        "1. **「APIキーが見つかりません」**\n",
        "   - ステップ3の手順に従ってAPIキーを設定\n",
        "\n",
        "2. **「データが取得できません」**\n",
        "   - 質問をより具体的にしてみる\n",
        "   - 期間を限定してみる\n",
        "\n",
        "3. **「タイムアウト」**\n",
        "   - データ量を減らす（例：「上位10件」を追加）\n",
        "\n",
        "## 📞 サポート\n",
        "\n",
        "問題が解決しない場合は、以下にお問い合わせください：\n",
        "- Slackチャンネル: #data-analysis-hub\n",
        "- メール: data-support@caddi.jp"
      ]
    },
    {
      "cell_type": "markdown",
      "metadata": {
        "id": "j3y4W_J2FdX5"
      },
      "source": [
        "---\n",
        "# 🎯 次のステップ\n",
        "\n",
        "## このツールをマスターしたら...\n",
        "\n",
        "### 📈 より高度な分析\n",
        "- コホート分析（顧客の時系列分析）\n",
        "- LTV（顧客生涯価値）予測\n",
        "- チャーンリスク分析\n",
        "\n",
        "### 🤝 チーム連携\n",
        "- 分析結果をレポートとして共有\n",
        "- 定期的なダッシュボード作成\n",
        "- KPIモニタリングの自動化\n",
        "\n",
        "### 📚 学習リソース\n",
        "- [BigQuery基礎](https://cloud.google.com/bigquery/docs)\n",
        "- [データ分析入門](https://www.coursera.org/learn/data-analysis-with-python)\n",
        "\n",
        "---\n",
        "\n",
        "**🎉 お疲れ様でした！**\n",
        "\n",
        "このツールを使って、データドリブンな営業活動を実現しましょう！"
      ]
    }
  ],
  "metadata": {
    "kernelspec": {
      "display_name": "Python 3",
      "language": "python",
      "name": "python3"
    },
    "language_info": {
      "codemirror_mode": {
        "name": "ipython",
        "version": 3
      },
      "file_extension": ".py",
      "mimetype": "text/x-python",
      "name": "python",
      "nbconvert_exporter": "python",
      "pygments_lexer": "ipython3",
      "version": "3.11.0"
    },
    "colab": {
      "provenance": [],
      "include_colab_link": true
    }
  },
  "nbformat": 4,
  "nbformat_minor": 0
}